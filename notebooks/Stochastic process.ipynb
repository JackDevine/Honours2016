{
 "cells": [
  {
   "cell_type": "markdown",
   "metadata": {
    "collapsed": false
   },
   "source": [
    "# Stochastic methods for simulating Brownian motors\n",
    "\n",
    "We can also write our equation as a stochastic process, the stochastic differential equation that corresponds to our initial PDE with diffusion coefficient $k_B T(x, t) = \\frac{\\sigma^2(X_t, t)}{2}$ is given by:\n",
    "\n",
    "$$ dX_t = -V'(X_t, t)dt + \\sigma(X_t, t)dW_t $$\n",
    "\n",
    "Where $W_t$ is the standard Wiener process given by:\n",
    "\n",
    "$$ W_t = \\xi_0 t + \\sqrt{2} \\sum_{n=1}^\\infty \\xi_n \\frac{\\sin(\\pi n t)}{\\pi n} $$\n",
    "\n",
    "where $\\xi_n$ are independant Gaussian variables with mean zero and variance one. First we will simulate a truncated version of the Wiener process, if all of the particles start at the origin then we should see them spreading out like a Gaussian (simple Brownian motion)."
   ]
  },
  {
   "cell_type": "code",
   "execution_count": null,
   "metadata": {
    "collapsed": false
   },
   "outputs": [],
   "source": [
    "2+2"
   ]
  },
  {
   "cell_type": "code",
   "execution_count": 1,
   "metadata": {
    "collapsed": false
   },
   "outputs": [
    {
     "data": {
      "text/html": [
       "<script charset=\"utf-8\">(function ($, undefined) {\n",
       "\n",
       "    function createElem(tag, attr, content) {\n",
       "\t// TODO: remove jQuery dependency\n",
       "\tvar el = $(\"<\" + tag + \"/>\").attr(attr);\n",
       "\tif (content) {\n",
       "\t    el.append(content);\n",
       "\t}\n",
       "\treturn el[0];\n",
       "    }\n",
       "\n",
       "    // A widget must expose an id field which identifies it to the backend,\n",
       "    // an elem attribute which is will be added to the DOM, and\n",
       "    // a getState() method which returns the value to be sent to the backend\n",
       "    // a sendUpdate() method which sends its current value to the backend\n",
       "    var Widget = {\n",
       "\tid: undefined,\n",
       "\telem: undefined,\n",
       "\tlabel: undefined,\n",
       "\tgetState: function () {\n",
       "\t    return this.elem.value;\n",
       "\t},\n",
       "\tsendUpdate: undefined\n",
       "    };\n",
       "\n",
       "    var Slider = function (typ, id, init) {\n",
       "\tvar attr = { type:  \"range\",\n",
       "\t\t     value: init.value,\n",
       "\t\t     min:   init.min,\n",
       "\t\t     max:   init.max,\n",
       "\t\t     step:  init.step },\n",
       "\t    elem = createElem(\"input\", attr),\n",
       "\t    self = this;\n",
       "\n",
       "\telem.onchange = function () {\n",
       "\t    self.sendUpdate();\n",
       "\t}\n",
       "\n",
       "\tthis.id = id;\n",
       "\tthis.elem = elem;\n",
       "\tthis.label = init.label;\n",
       "\n",
       "\tInputWidgets.commInitializer(this); // Initialize communication\n",
       "    }\n",
       "    Slider.prototype = Widget;\n",
       "\n",
       "    var Checkbox = function (typ, id, init) {\n",
       "\tvar attr = { type: \"checkbox\",\n",
       "\t\t     checked: init.value },\n",
       "\t    elem = createElem(\"input\", attr),\n",
       "\t    self = this;\n",
       "\n",
       "\tthis.getState = function () {\n",
       "\t    return elem.checked;\n",
       "\t}\n",
       "\telem.onchange = function () {\n",
       "\t    self.sendUpdate();\n",
       "\t}\n",
       "\n",
       "\tthis.id = id;\n",
       "\tthis.elem = elem;\n",
       "\tthis.label = init.label;\n",
       "\n",
       "\tInputWidgets.commInitializer(this);\n",
       "    }\n",
       "    Checkbox.prototype = Widget;\n",
       "\n",
       "    var Button = function (typ, id, init) {\n",
       "\tvar attr = { type:    \"button\",\n",
       "\t\t     value:   init.label },\n",
       "\t    elem = createElem(\"input\", attr),\n",
       "\t    self = this;\n",
       "\tthis.getState = function () {\n",
       "\t    return null;\n",
       "\t}\n",
       "\telem.onclick = function () {\n",
       "\t    self.sendUpdate();\n",
       "\t}\n",
       "\n",
       "\tthis.id = id;\n",
       "\tthis.elem = elem;\n",
       "\tthis.label = init.label;\n",
       "\n",
       "\tInputWidgets.commInitializer(this);\n",
       "    }\n",
       "    Button.prototype = Widget;\n",
       "\n",
       "    var Text = function (typ, id, init) {\n",
       "\tvar attr = { type:  \"text\",\n",
       "\t\t     placeholder: init.label,\n",
       "\t\t     value: init.value },\n",
       "\t    elem = createElem(\"input\", attr),\n",
       "\t    self = this;\n",
       "\tthis.getState = function () {\n",
       "\t    return elem.value;\n",
       "\t}\n",
       "\telem.onkeyup = function () {\n",
       "\t    self.sendUpdate();\n",
       "\t}\n",
       "\n",
       "\tthis.id = id;\n",
       "\tthis.elem = elem;\n",
       "\tthis.label = init.label;\n",
       "\n",
       "\tInputWidgets.commInitializer(this);\n",
       "    }\n",
       "    Text.prototype = Widget;\n",
       "\n",
       "    var Textarea = function (typ, id, init) {\n",
       "\tvar attr = { placeholder: init.label },\n",
       "\t    elem = createElem(\"textarea\", attr, init.value),\n",
       "\t    self = this;\n",
       "\tthis.getState = function () {\n",
       "\t    return elem.value;\n",
       "\t}\n",
       "\telem.onchange = function () {\n",
       "\t    self.sendUpdate();\n",
       "\t}\n",
       "\n",
       "\tthis.id = id;\n",
       "\tthis.elem = elem;\n",
       "\tthis.label = init.label;\n",
       "\n",
       "\tInputWidgets.commInitializer(this);\n",
       "    }\n",
       "    Textarea.prototype = Widget;\n",
       "\n",
       "    // RadioButtons\n",
       "    // Dropdown\n",
       "    // HTML\n",
       "    // Latex\n",
       "\n",
       "    var InputWidgets = {\n",
       "\tSlider: Slider,\n",
       "\tCheckbox: Checkbox,\n",
       "\tButton: Button,\n",
       "\tText: Text,\n",
       "\tTextarea: Textarea,\n",
       "\tdebug: false,\n",
       "\tlog: function () {\n",
       "\t    if (InputWidgets.debug) {\n",
       "\t\tconsole.log.apply(console, arguments);\n",
       "\t    }\n",
       "\t},\n",
       "\t// a central way to initalize communication\n",
       "\t// for widgets.\n",
       "\tcommInitializer: function (widget) {\n",
       "\t    widget.sendUpdate = function () {};\n",
       "\t}\n",
       "    };\n",
       "\n",
       "    window.InputWidgets = InputWidgets;\n",
       "\n",
       "})(jQuery, undefined);\n",
       "</script>"
      ]
     },
     "metadata": {},
     "output_type": "display_data"
    },
    {
     "data": {
      "text/html": [
       "<div id=\"interact-js-shim\">\n",
       "    <script charset=\"utf-8\">\n",
       "(function (IPython, $, _, MathJax, Widgets) {\n",
       "    $.event.special.destroyed = {\n",
       "\tremove: function(o) {\n",
       "\t    if (o.handler) {\n",
       "\t\to.handler.apply(this, arguments)\n",
       "\t    }\n",
       "\t}\n",
       "    }\n",
       "\n",
       "    var OutputArea = IPython.version >= \"4.0.0\" ? require(\"notebook/js/outputarea\").OutputArea : IPython.OutputArea;\n",
       "\n",
       "    var redrawValue = function (container, type, val) {\n",
       "\tvar selector = $(\"<div/>\");\n",
       "\tvar oa = new OutputArea(_.extend(selector, {\n",
       "\t    selector: selector,\n",
       "\t    prompt_area: true,\n",
       "\t    events: IPython.events,\n",
       "\t    keyboard_manager: IPython.keyboard_manager\n",
       "\t})); // Hack to work with IPython 2.1.0\n",
       "\n",
       "\tswitch (type) {\n",
       "\tcase \"image/png\":\n",
       "            var _src = 'data:' + type + ';base64,' + val;\n",
       "\t    $(container).find(\"img\").attr('src', _src);\n",
       "\t    break;\n",
       "\tdefault:\n",
       "\t    var toinsert = OutputArea.append_map[type].apply(\n",
       "\t\toa, [val, {}, selector]\n",
       "\t    );\n",
       "\t    $(container).empty().append(toinsert.contents());\n",
       "\t    selector.remove();\n",
       "\t}\n",
       "\tif (type === \"text/latex\" && MathJax) {\n",
       "\t    MathJax.Hub.Queue([\"Typeset\", MathJax.Hub, toinsert.get(0)]);\n",
       "\t}\n",
       "    }\n",
       "\n",
       "\n",
       "    $(document).ready(function() {\n",
       "\tWidgets.debug = false; // log messages etc in console.\n",
       "\tfunction initComm(evt, data) {\n",
       "\t    var comm_manager = data.kernel.comm_manager;\n",
       "        //_.extend(comm_manager.targets, require(\"widgets/js/widget\"))\n",
       "\t    comm_manager.register_target(\"Signal\", function (comm) {\n",
       "            comm.on_msg(function (msg) {\n",
       "                //Widgets.log(\"message received\", msg);\n",
       "                var val = msg.content.data.value;\n",
       "                $(\".signal-\" + comm.comm_id).each(function() {\n",
       "                var type = $(this).data(\"type\");\n",
       "                if (val[type]) {\n",
       "                    redrawValue(this, type, val[type], type);\n",
       "                }\n",
       "                });\n",
       "                delete val;\n",
       "                delete msg.content.data.value;\n",
       "            });\n",
       "\t    });\n",
       "\n",
       "\t    // coordingate with Comm and redraw Signals\n",
       "\t    // XXX: Test using Reactive here to improve performance\n",
       "\t    $([IPython.events]).on(\n",
       "\t\t'output_appended.OutputArea', function (event, type, value, md, toinsert) {\n",
       "\t\t    if (md && md.reactive) {\n",
       "                // console.log(md.comm_id);\n",
       "                toinsert.addClass(\"signal-\" + md.comm_id);\n",
       "                toinsert.data(\"type\", type);\n",
       "                // Signal back indicating the mimetype required\n",
       "                var comm_manager = IPython.notebook.kernel.comm_manager;\n",
       "                var comm = comm_manager.comms[md.comm_id];\n",
       "                comm.then(function (c) {\n",
       "                    c.send({action: \"subscribe_mime\",\n",
       "                       mime: type});\n",
       "                    toinsert.bind(\"destroyed\", function() {\n",
       "                        c.send({action: \"unsubscribe_mime\",\n",
       "                               mime: type});\n",
       "                    });\n",
       "                })\n",
       "\t\t    }\n",
       "\t    });\n",
       "\t}\n",
       "\n",
       "\ttry {\n",
       "\t    // try to initialize right away. otherwise, wait on the status_started event.\n",
       "\t    initComm(undefined, IPython.notebook);\n",
       "\t} catch (e) {\n",
       "\t    $([IPython.events]).on('kernel_created.Kernel kernel_created.Session', initComm);\n",
       "\t}\n",
       "    });\n",
       "})(IPython, jQuery, _, MathJax, InputWidgets);\n",
       "</script>\n",
       "    <script>\n",
       "        window.interactLoadedFlag = true\n",
       "       $(\"#interact-js-shim\").bind(\"destroyed\", function () {\n",
       "           if (window.interactLoadedFlag) {\n",
       "               console.warn(\"JavaScript required by Interact will be removed if you remove this cell or run using Interact more than once.\")\n",
       "           }\n",
       "       })\n",
       "       $([IPython.events]).on(\"kernel_starting.Kernel kernel_restarting.Kernel\", function () { window.interactLoadedFlag = false })\n",
       "   </script>\n",
       "</div>"
      ]
     },
     "metadata": {},
     "output_type": "display_data"
    },
    {
     "name": "stderr",
     "output_type": "stream",
     "text": [
      "INFO: Recompiling stale cache file C:\\Users\\devja964\\.julia\\lib\\v0.4\\Distributions.ji for module Distributions.\n",
      "INFO: Recompiling stale cache file C:\\Users\\devja964\\.julia\\lib\\v0.4\\PDMats.ji for module PDMats.\n"
     ]
    },
    {
     "data": {
      "text/plain": [
       "\"C:\\\\Users\\\\devja964\\\\Documents\\\\Project\\\\Git\\\\Honours2016\\\\Thesis\\\\Figures\""
      ]
     },
     "execution_count": 1,
     "metadata": {},
     "output_type": "execute_result"
    }
   ],
   "source": [
    "using PyPlot\n",
    "using Interact\n",
    "using Distributions\n",
    "# using ForwardDiff\n",
    "diff_periodic(vec) = [diff(vec) ; diff(vec)[1]]\n",
    "\n",
    "function discrete_quad(vec, start, fin)\n",
    "    #Use the trapezoid rule to do quadrature on a vector vec \n",
    "    #where the points in vec are evenly spaced from start to fin\n",
    "    h = (fin - start)/length(vec)\n",
    "    (h/2)*(vec[1] + vec[end] + 2*sum(vec[2:end-1]))\n",
    "end\n",
    "figureDirectory = \"C:\\\\Users\\\\devja964\\\\Documents\\\\Project\\\\Git\\\\Honours2016\\\\Thesis\\\\Figures\""
   ]
  },
  {
   "cell_type": "code",
   "execution_count": 2,
   "metadata": {
    "collapsed": false
   },
   "outputs": [
    {
     "data": {
      "text/plain": [
       "wiener (generic function with 1 method)"
      ]
     },
     "execution_count": 2,
     "metadata": {},
     "output_type": "execute_result"
    }
   ],
   "source": [
    "function wiener(dist, time_vec)\n",
    "    #Function accepts a Gaussian distribution and some times to evaluate the Wiener process generated by that\n",
    "    #particular distribution\n",
    "    s = 0.0\n",
    "    for i = 1:length(dist)-1\n",
    "        s += dist[i+1]*(sin(pi*i*time_vec)/(pi*i))\n",
    "    end\n",
    "    dist[1]*time_vec + sqrt(2)*s\n",
    "end"
   ]
  },
  {
   "cell_type": "code",
   "execution_count": 38,
   "metadata": {
    "collapsed": false
   },
   "outputs": [
    {
     "data": {
      "image/png": "[encoded data removed]",
      "text/plain": [
       "PyPlot.Figure(PyObject <matplotlib.figure.Figure object at 0x0000000023F7AF98>)"
      ]
     },
     "metadata": {},
     "output_type": "display_data"
    }
   ],
   "source": [
    "dist = randn(100)\n",
    "time_axis = linspace(0, 1, 100)\n",
    "plot(time_axis, wiener(dist, time_axis), linewidth = 2)\n",
    "grid()\n",
    "# title(\"Path for a single particle undergoing a Wiener process for the time interval [0, 1]\")\n",
    "xlabel(\"Time (s)\", fontsize = 26)\n",
    "ylabel(\"Position (a.u.)\", fontsize = 26)\n",
    "# savefig(\"$(figureDirectory)\\\\singleBrownianTrajectory.pdf\")"
   ]
  },
  {
   "cell_type": "code",
   "execution_count": 42,
   "metadata": {
    "collapsed": false
   },
   "outputs": [
    {
     "data": {
      "image/png": "[encoded data removed]",
      "text/plain": [
       "PyPlot.Figure(PyObject <matplotlib.figure.Figure object at 0x0000000027A56CF8>)"
      ]
     },
     "metadata": {},
     "output_type": "display_data"
    }
   ],
   "source": [
    "n_particles = 2000\n",
    "n_steps = 100 #Number of steps that the particle takes (also the point where we truncate the sum)\n",
    "particles = zeros(n_particles)\n",
    "count = 1\n",
    "end_point = Array(Float64, n_particles)\n",
    "for particle in particles\n",
    "    end_point[count] = wiener(randn(n_steps), 1.0) #The position of the particle by the end of its walk\n",
    "    count += 1\n",
    "end\n",
    "\n",
    "plt[:hist](end_point, 50)\n",
    "xlabel(\"Position (a.u.)\", fontsize = 26)\n",
    "ylabel(\"Number of particles\", fontsize = 26)\n",
    "xlim([-3, 3])\n",
    "# savefig(\"$(figureDirectory)\\\\multipleBrownianTrajectory.pdf\")"
   ]
  },
  {
   "cell_type": "markdown",
   "metadata": {
    "collapsed": true
   },
   "source": [
    "# Using the Euler approximation to simulate the uncoupled equation\n",
    "\n",
    "We have the equation\n",
    "\n",
    "$$ d X_t = V'(X_t, t)dt + \\sqrt{2 k_B T} d W_t $$\n",
    "\n",
    "The Euler approximation says that:\n",
    "\n",
    "$$ \\hat{X}(t_n + 1) = \\hat{X}(t_n) - V'(\\hat{X}(t_n), t_n) \\Delta t + \\sqrt{2 k_B T} \\Delta W(t_n) $$\n",
    "\n",
    "where $t_n = n \\Delta t$ $\\Delta W(t_n) = W(t_n + 1) - W(t_n)$. $\\hat{X}$ approaches $X$ as $\\Delta t$ goes to zero. This can be simplified to:\n",
    "\n",
    "$$ \\hat{X}(t_n + 1) = \\hat{X}(t_n) - V'(\\hat{X}(t_n), t_n) \\Delta t + \\sqrt{2 k_B T} \\sqrt{\\Delta t} \\xi $$\n",
    "where $Prob(\\xi = -1) = Prob(\\xi = 1) = \\frac{1}{2}$. The second form is much faster to compute."
   ]
  },
  {
   "cell_type": "code",
   "execution_count": 43,
   "metadata": {
    "collapsed": false
   },
   "outputs": [
    {
     "data": {
      "image/png": "[encoded data removed]",
      "text/plain": [
       "PyPlot.Figure(PyObject <matplotlib.figure.Figure object at 0x00000000279D7080>)"
      ]
     },
     "metadata": {},
     "output_type": "display_data"
    },
    {
     "data": {
      "text/plain": [
       "PyObject <matplotlib.text.Text object at 0x0000000028401BA8>"
      ]
     },
     "execution_count": 43,
     "metadata": {},
     "output_type": "execute_result"
    }
   ],
   "source": [
    "Δt = 0.01\n",
    "k_B = 1.38e-3\n",
    "T = 600.0\n",
    "\n",
    "f = 2.3\n",
    "v₀ = 1.5\n",
    "L = 1.0\n",
    "\n",
    "V(x) = f*x + v₀*sin((2.0*pi/L)*x)\n",
    "\n",
    "n_steps = Int(1/Δt)\n",
    "time_axis = linspace(0, 1, n_steps)\n",
    "X = Array(Float64, n_steps)\n",
    "X[1] = 0.0\n",
    "dist = randn(n_steps)\n",
    "W = wiener(dist, time_axis)\n",
    "\n",
    "for i = 2:n_steps\n",
    "    X[i] = X[i-1] + V(X[i-1])*Δt + sqrt(2*k_B*T)*(W[i] - W[i-1])\n",
    "end\n",
    "\n",
    "plot(X)\n",
    "title(\"Simulation of a single particle subject to our equation of motion\")"
   ]
  },
  {
   "cell_type": "code",
   "execution_count": 71,
   "metadata": {
    "collapsed": false
   },
   "outputs": [
    {
     "data": {
      "text/plain": [
       "simulate_particle (generic function with 2 methods)"
      ]
     },
     "execution_count": 71,
     "metadata": {},
     "output_type": "execute_result"
    }
   ],
   "source": [
    "k_B = 1.38e-3\n",
    "T = 300.0\n",
    "T_fun(x) = 300.0 #+ 50*sin((pi/L)*x)\n",
    "\n",
    "f = 1.3\n",
    "v₀ = 1.0\n",
    "L = 1.0\n",
    "\n",
    "V(x) = f*x + v₀*sin((2.0*pi/L)*x)\n",
    "dV(x) = f + (2.0*pi/L)*v₀*cos((2.0*pi/L)*x)\n",
    "ddV(x) = -(2.0*pi/L)^2*v₀*sin((2.0*pi/L)*x)\n",
    "μ(x) = -(f + (2.0*pi/L)*v₀*cos((2.0*pi/L)*x))\n",
    "# μ(x) = T\n",
    "\n",
    "function simulate_particle(init_pos, Δt, μ::Function, T::Number)\n",
    "    #This is the method for a constant temperature\n",
    "    n_steps = Int(1/Δt)\n",
    "    time_axis = linspace(0, 1, n_steps)\n",
    "    \n",
    "#     W = wiener(randn(n_steps), time_axis)\n",
    "#     Y = sqrt(2*k_B*T*Δt)*rand(-1:2:1, n_steps) #The term at the end of the equation\n",
    "    Y = sqrt(2*k_B*T*Δt)*randn(n_steps)\n",
    "    X = Array(Float64, n_steps)\n",
    "    X[1] = init_pos\n",
    "    for i = 2:n_steps\n",
    "#         X[i] = X[i-1] + μ(X[i-1])*Δt + sqrt(2*k_B*T)*(W[i] - W[i-1])\n",
    "        X[i] = X[i-1] + μ(X[i-1])*Δt + Y[i]\n",
    "    end\n",
    "    X\n",
    "end\n",
    "\n",
    "function simulate_particle(init_pos, Δt, μ::Function, T::Function)\n",
    "    #This is the method for a non constant temperature, in this case we will have to have T defined at all x,\n",
    "    #since it is hard to anticipate how far the particle will travel over time.\n",
    "    n_steps = Int(1/Δt)\n",
    "    time_axis = linspace(0, 1, n_steps)\n",
    "    \n",
    "#     W = wiener(randn(n_steps), time_axis)\n",
    "#     Y = sqrt(2*k_B*T*Δt)*rand(-1:2:1, n_steps) #The term at the end of the equation\n",
    "    Y = sqrt(2*k_B*Δt)*randn(n_steps)\n",
    "    X = Array(Float64, n_steps)\n",
    "    X[1] = init_pos\n",
    "    for i = 2:n_steps\n",
    "#         X[i] = X[i-1] + μ(X[i-1])*Δt + sqrt(2*k_B*T)*(W[i] - W[i-1])\n",
    "        X[i] = X[i-1] + μ(X[i-1])*Δt + Y[i]*sqrt(T(X[i-1]))\n",
    "    end\n",
    "    X\n",
    "end"
   ]
  },
  {
   "cell_type": "code",
   "execution_count": 91,
   "metadata": {
    "collapsed": false
   },
   "outputs": [
    {
     "name": "stdout",
     "output_type": "stream",
     "text": [
      "  0.236441 seconds (7.99 M allocations: 132.339 MB, 4.20% gc time)\n"
     ]
    }
   ],
   "source": [
    "n_particles = 1000\n",
    "total_time = 2\n",
    "Δt = 0.005\n",
    "n_steps = Int(1/Δt)*total_time\n",
    "init_positions = zeros(n_particles)\n",
    "\n",
    "particle_positions = Array(Float64, n_particles, n_steps)\n",
    "particle_path = Array(Float64, Int(n_steps/total_time))\n",
    "count = 1\n",
    "@time begin\n",
    "    for position in init_positions\n",
    "        particle_path[end] = position\n",
    "        for i = 1:total_time\n",
    "            particle_path = simulate_particle(particle_path[end], Δt, μ, T_fun)\n",
    "            indexes = (i*Int(n_steps/total_time)-Int(n_steps/total_time)+1):i*Int(n_steps/total_time)\n",
    "            particle_positions[count, indexes] = particle_path\n",
    "        end\n",
    "        count += 1\n",
    "    end\n",
    "end"
   ]
  },
  {
   "cell_type": "code",
   "execution_count": 103,
   "metadata": {
    "collapsed": false
   },
   "outputs": [],
   "source": [
    "# Use this cell for saving the figure and all of the meta data.\n",
    "time_step = 50\n",
    "fig_name = \"Stochastic\"\n",
    "fig_dir = \"C:\\\\Users\\\\devja964\\\\Documents\\\\Project\\\\Git\\\\Honours2016\\\\Thesis\\\\Figures\"\n",
    "outfile = open(\"$(fig_dir)\\\\$(fig_name).txt\", \"w\")\n",
    "# Keep track of all of the parameters\n",
    "message = \"\"\"Parameters: v_0 = $v₀ \\n f = $f \\n Bath temperature = $T \\n \n",
    "            \\n number of time steps = $n_steps \\n \n",
    "            time step size = $Δt\"\"\"\n",
    "write(outfile, message)\n",
    "close(outfile)"
   ]
  },
  {
   "cell_type": "code",
   "execution_count": 104,
   "metadata": {
    "collapsed": false
   },
   "outputs": [
    {
     "data": {
      "image/png": "[encoded data removed]",
      "text/plain": [
       "PyPlot.Figure(PyObject <matplotlib.figure.Figure object at 0x0000000027B0B1D0>)"
      ]
     },
     "metadata": {},
     "output_type": "display_data"
    }
   ],
   "source": [
    "# g = figure()\n",
    "\n",
    "# @manipulate for i in 1:n_steps withfig(g) do\n",
    "#         plt[:hist](particle_positions[:, i], 100)\n",
    "#         plot(x_axis, map(x -> 0.8*(V(x) - f*x_axis[1] + 1.0), x_axis), x_axis, map(x -> 0.1*T_fun(x), x_axis))\n",
    "#     end\n",
    "# end\n",
    "i = 50\n",
    "x_axis = linspace(-3, 1, 1000)\n",
    "plt[:hist](particle_positions[:, end], 100)\n",
    "plot(x_axis, map(x -> 9.8*(V(x) - f*x_axis[1] + 1.0), x_axis), linewidth = 2) #, x_axis, map(x -> 0.1*T_fun(x), x_axis))\n",
    "legend([\"Paritcle number\", \"Potential\"], loc = 2)\n",
    "xlim([-3, 1])\n",
    "xlabel(\"Position (a.u.)\", fontsize = 20)\n",
    "savefig(\"$fig_dir\\\\$(fig_name).pdf\")"
   ]
  },
  {
   "cell_type": "markdown",
   "metadata": {},
   "source": [
    "# The two dimensional Wiener process\n",
    "\n",
    "Consider a particle with coordinates given by $(x_t, y_t) = (W_t^1, W_t^2)$."
   ]
  },
  {
   "cell_type": "code",
   "execution_count": null,
   "metadata": {
    "collapsed": false
   },
   "outputs": [],
   "source": [
    "n_steps = 1000\n",
    "time_axis = linspace(0, 1, n_steps)\n",
    "dist1 = randn(n_steps)\n",
    "dist2 = randn(n_steps)\n",
    "time_axis = linspace(0, 1, n_steps)\n",
    "\n",
    "plot(wiener(dist1, time_axis), wiener(dist2, time_axis))"
   ]
  },
  {
   "cell_type": "code",
   "execution_count": null,
   "metadata": {
    "collapsed": false
   },
   "outputs": [],
   "source": [
    "n_particles = 8000\n",
    "n_steps = 100\n",
    "x_pos = Array(Float64, n_particles)\n",
    "y_pos = Array(Float64, n_particles)\n",
    "for i = 1:n_particles\n",
    "    dist1 = randn(n_steps)\n",
    "    dist2 = randn(n_steps)\n",
    "    x_pos[i] = wiener(dist1, 1.0)\n",
    "    y_pos[i] = wiener(dist2, 1.0)    \n",
    "end\n",
    "hist2D(x_pos, y_pos, 35);"
   ]
  },
  {
   "cell_type": "code",
   "execution_count": null,
   "metadata": {
    "collapsed": false
   },
   "outputs": [],
   "source": [
    "V(x, y) = f*x + v₀*sin((2.0*pi/L)*x) + f*y + v₀*sin((2.0*pi/L)*y)\n",
    "μ(x, y) = -(f + (2.0*pi/L)*v₀*cos((2.0*pi/L)*x)) - (f + (2.0*pi/L)*v₀*cos((2.0*pi/L)*y))\n",
    "\n",
    "function simulate_particle(init_pos::Array, Δt, μ::Function)\n",
    "    n_steps = Int(1/Δt)\n",
    "    time_axis = linspace(0, 1, n_steps)\n",
    "    \n",
    "#     W = wiener(randn(n_steps), time_axis)\n",
    "    Y = sqrt(2*k_B*T*Δt)*rand(-1:2:1, 2, n_steps) #The term at the end of the equation\n",
    "    X = Array(Float64, 2, n_steps)\n",
    "    X[:, 1] = init_pos\n",
    "    for i = 2:n_steps\n",
    "#         X[i] = X[i-1] + μ(X[i-1])*Δt + sqrt(2*k_B*T)*(W[i] - W[i-1])\n",
    "        X[:, i] = X[:, i-1] + μ(X[:, i-1]...)*Δt + Y[:, i]\n",
    "    end\n",
    "    X\n",
    "end"
   ]
  },
  {
   "cell_type": "code",
   "execution_count": null,
   "metadata": {
    "collapsed": false
   },
   "outputs": [],
   "source": [
    "path = simulate_particle([0.0 0.0], 0.001, μ)\n",
    "plot(path[1, :]', path[2, :]')"
   ]
  },
  {
   "cell_type": "code",
   "execution_count": null,
   "metadata": {
    "collapsed": false
   },
   "outputs": [],
   "source": [
    "n_particles = 1000\n",
    "Δt = 0.001\n",
    "n_steps = Int(1/Δt)\n",
    "init_position = [0.0 0.0]\n",
    "position = Array(Float64, 2, n_steps, n_particles)\n",
    "\n",
    "for i = 1:n_particles\n",
    "    position[:, :, i] = simulate_particle(init_position, Δt, μ)\n",
    "end"
   ]
  },
  {
   "cell_type": "code",
   "execution_count": null,
   "metadata": {
    "collapsed": false
   },
   "outputs": [],
   "source": [
    "# g = figure()\n",
    "# @manipulate for time_step in 1:n_steps withfig(g) do\n",
    "#     a = Float64[position[1, time_step, particle] for particle = 1:n_particles]\n",
    "#     b = Float64[position[2, time_step, particle] for particle = 1:n_particles]\n",
    "#     hist2D(a, b, 70)\n",
    "#     end\n",
    "# end"
   ]
  },
  {
   "cell_type": "code",
   "execution_count": null,
   "metadata": {
    "collapsed": false
   },
   "outputs": [],
   "source": [
    "# ax = imshow([V(x, y) for x in linspace(-5, 2, 100), y in linspace(-5, 2, 100)], extent=[-5, 2, -5, 2])"
   ]
  },
  {
   "cell_type": "markdown",
   "metadata": {
    "collapsed": true
   },
   "source": [
    "# Coupling the equation\n",
    "\n",
    "Here we are couling the equation by saying that (Ignoring diffussion)\n",
    "\n",
    "$$ T(x, t_{n+1}) = T(x, t_n) + -\\kappa \\left(\\frac{\\partial J}{\\partial x} \\frac{\\partial V}{\\partial x} + \n",
    "     J \\frac{\\partial^2 V}{\\partial x} \\right) $$\n",
    "     \n",
    "Where, $J(x)$ is the particle current, i.e. the number of particles crossing the point $x$ between times $t_n$ and $t_{n+1}$.\n",
    "\n",
    "# These cells are really slow because they have the temperature etc as functions, not discrete vectors "
   ]
  },
  {
   "cell_type": "code",
   "execution_count": null,
   "metadata": {
    "collapsed": false
   },
   "outputs": [],
   "source": [
    "function stoch_integral(func, lower, upper, n_points)\n",
    "    #Do a stochastic integral of the function func from lower to upper, i.e. evaluate int_lower^upper func(t) dW(t)\n",
    "    dt = (upper - lower)/n_points\n",
    "    dW = sqrt(dt)*randn(1, n_points)\n",
    "    W = cumsum(dW)\n",
    "    \n",
    "    ito = sum([0 ; W[1:end-1]].*dW)\n",
    "#     strat = sum((0.5*([0 ; W[1:end-1]] + W) + 0.5sqrt(dt)*randn(1, n_points)).*dW)\n",
    "    \n",
    "#     itoerr = abs(ito - 0.5*(W[end]^2-T))\n",
    "#     straterr = abs(strat - 0.5*W[end]^2)\n",
    "    \n",
    "    return ito\n",
    "end"
   ]
  },
  {
   "cell_type": "code",
   "execution_count": null,
   "metadata": {
    "collapsed": false
   },
   "outputs": [],
   "source": [
    "# delta(x, epsilon) = abs(x) < epsilon ? 1 : 0\n",
    "delta(x, sigma) = (1/(sigma*sqrt(pi)))*exp(-(x^2)/(2sigma^2))\n",
    "\n",
    "function simulate_coupled_particle(position, Δt, μ::Function, dV::Function, ddV::Function, T::Function, kappa::Number)\n",
    "    #Simulate a particle that is coupled to the environment.\n",
    "    #The particle current at time t_n and position x is one if (X(t_n) < x && X(t_n+1) > x) || ...\n",
    "    Y = sqrt(2*k_B*Δt)*randn()\n",
    "\n",
    "    new_position = position + μ(position)*Δt + sqrt(2*k_B*Δt)*randn()*sqrt(T(position))\n",
    "    \n",
    "    epsilon = 0.005\n",
    "    #Should I make the current fuzzy? If it is, then that will affect the derivative of the current\n",
    "    current(x) = (position < x < new_position) ? 1 : (new_position < x < position) ? -1 : 0\n",
    "    d_current(x) =  sign(new_position - position)*(delta(x - position, epsilon) - delta(x - new_position, epsilon))\n",
    "    \n",
    "    T_new(x) = T(x) - kappa*(d_current(x)*dV(x) + current(x)*ddV(x))\n",
    "    \n",
    "    return new_position, T_new\n",
    "end"
   ]
  },
  {
   "cell_type": "code",
   "execution_count": null,
   "metadata": {
    "collapsed": false
   },
   "outputs": [],
   "source": [
    "n_steps = 2000\n",
    "Δt = 0.01\n",
    "kappa = 0.004\n",
    "# T_old(x) = 200*exp(-x.^2) + 150\n",
    "T_old(x) = 250.0 + 50*sin((pi/L)*x)\n",
    "Temperature = Array(Function, n_steps)\n",
    "Temperature[1] = T_old\n",
    "init_pos = 0.0\n",
    "position = Array(Float64, n_steps)\n",
    "position[1] = init_pos\n",
    "old_position = init_pos\n",
    "\n",
    "init_pos2 = -0.8\n",
    "position2 = Array(Float64, n_steps)\n",
    "position2[1] = init_pos2\n",
    "old_position2 = init_pos2\n",
    "for i = 2:n_steps\n",
    "    new_position, Temperature[i] = simulate_coupled_particle(old_position, Δt, μ, dV, ddV, Temperature[i-1], kappa)\n",
    "    position[i] = new_position\n",
    "    old_position = new_position\n",
    "    new_position2, Temperature[i] = simulate_coupled_particle(old_position2, Δt, μ, dV, ddV, Temperature[i-1], kappa)\n",
    "    position2[i] = new_position2\n",
    "    old_position2 = new_position2\n",
    "end "
   ]
  },
  {
   "cell_type": "code",
   "execution_count": null,
   "metadata": {
    "collapsed": false
   },
   "outputs": [],
   "source": [
    "#Turn all of those functions into an array that is easier for the manipulate to work with.\n",
    "n_points = 500 #Number of points to discretize T by for plotting\n",
    "stride_size = 100 #Number of intervals to ignore T at\n",
    "x_axis = linspace(-7, 1, n_points)\n",
    "Temp_array = Array(Float64, n_steps, n_points)\n",
    "for i = 1:Int(n_steps/stride_size)\n",
    "    Temp_array[(stride_size*i + 1 - stride_size):(stride_size*i), :] = \n",
    "    repmat(map(x -> Temperature[i*stride_size - stride_size + 1](x), x_axis), 1, stride_size)'\n",
    "end"
   ]
  },
  {
   "cell_type": "code",
   "execution_count": null,
   "metadata": {
    "collapsed": false
   },
   "outputs": [],
   "source": [
    "# g = figure()\n",
    "# @manipulate for i in 1:n_steps withfig(g) do\n",
    "#         plt[:hist]([position[i] position2[i]])\n",
    "#         plot(x_axis, map(x -> 0.08*(V(x) - f*x_axis[1] + 1.0), x_axis), x_axis, 0.01*Temp_array[i, :]')\n",
    "#     end\n",
    "# end\n",
    "\n",
    "i = n_steps\n",
    "plt[:hist]([position[i] position2[i]])\n",
    "plot(x_axis, map(x -> 0.08*(V(x) - f*x_axis[1] + 1.0), x_axis), x_axis, 0.01*Temp_array[i, :]')"
   ]
  },
  {
   "cell_type": "markdown",
   "metadata": {},
   "source": [
    "# Modeling the diffusion of temperature\n",
    "\n",
    "If we ignore the interaction of the motor and the environment, then the evolution of the temperature is governed by diffussion, the macroscopic equation for this is given by:\n",
    "\n",
    "$$ \\frac{\\partial T}{\\partial t} = D \\frac{\\partial^2 T}{\\partial x^2} $$\n",
    "\n",
    "We will simulate this diffussion using finite differencing."
   ]
  },
  {
   "cell_type": "code",
   "execution_count": null,
   "metadata": {
    "collapsed": false
   },
   "outputs": [],
   "source": [
    "#Diffusion of temperature\n",
    "D = 1.1\n",
    "function stepTdiff(dis_T, Δt)\n",
    "    diag_minus1 = Float64[D for j in 2:n_points]\n",
    "    diag0 = Float64[-2D for j in 1:n_points]\n",
    "    diag1 = Float64[D for j in 1:n_points-1]\n",
    "    \n",
    "    A = spdiagm((diag_minus1, diag0, diag1), (-1, 0, 1))\n",
    "    A[1, end] = D\n",
    "    A[end, 1] = D\n",
    "    (speye(size(A)...) - 0.5*Δt*A)\\((speye(size(A)...) + 0.5*Δt*A)*dis_T)\n",
    "end"
   ]
  },
  {
   "cell_type": "code",
   "execution_count": null,
   "metadata": {
    "collapsed": true
   },
   "outputs": [],
   "source": [
    "Δt = 0.1\n",
    "n_steps = 5000\n",
    "T = Array(Float64, n_points, n_steps)\n",
    "# T_0 = [300*sin((pi/L)*x) + 600 for x in x_axis]\n",
    "T_0 = [300*exp(-((x+3.5)^2)/0.5) + 600 for x in x_axis]\n",
    "T[:, 1] = T_0\n",
    "for i = 2:n_steps\n",
    "    time = i*Δt\n",
    "    dis_T = T[:, i-1]\n",
    "    T[:, i] = stepTdiff(dis_T, Δt)\n",
    "end"
   ]
  },
  {
   "cell_type": "code",
   "execution_count": null,
   "metadata": {
    "collapsed": false
   },
   "outputs": [],
   "source": [
    "# g = figure()\n",
    "# @manipulate for time_step=1:n_steps withfig(g) do\n",
    "#         plot(x_axis, T[:, time_step])\n",
    "#     end\n",
    "# end\n",
    "\n",
    "time_step = 100\n",
    "plot(x_axis, T[:, time_step])"
   ]
  },
  {
   "cell_type": "code",
   "execution_count": null,
   "metadata": {
    "collapsed": false
   },
   "outputs": [],
   "source": [
    "function simulate_coupled_particle(position, x_axis, Δt, μ::Function, dis_dV::Array, dis_ddV::Array,\n",
    "    dis_T::Array, kappa::Number, D::Number)\n",
    "    #Simulate a particle that is coupled to the environment. Use this method for a discretized version of the \n",
    "    #temperature where the temperature is calculated at all points at each step, so that the discretized temperature\n",
    "    #can be used for finite differencing. This means that the x_axis will be restricted.\n",
    "    #The particle current at time t_n and position x is one if (X(t_n) < x && X(t_n+1) > x) || ...\n",
    "    Δ = 1/length(dis_T)\n",
    "    Y = sqrt(2*k_B*Δt)*randn()\n",
    "    position_index = indmin(abs(x_axis - position))\n",
    "    \n",
    "    new_position = position + μ(position)*Δt + sqrt(2*k_B*Δt)*randn()*sqrt(dis_T[position_index])\n",
    "    new_position_index = indmin(abs(x_axis - new_position))\n",
    "    \n",
    "    epsilon = 0.0005\n",
    "    #Should I make the current fuzzy? If it is, then that will affect the derivative of the current\n",
    "    current = Float64[(position < x < new_position) ? 1 : (new_position < x < position) ? -1 : 0 for x in x_axis]\n",
    "    d_current =  Float64[sign(new_position - position)*(delta(x - position, epsilon) - delta(x - new_position, epsilon))\n",
    "        for x in x_axis]\n",
    "    \n",
    "    dis_T = dis_T - kappa*Δt*(d_current.*dis_dV + current.*dis_ddV)\n",
    "    \n",
    "    #Now apply diffusion to the temperature\n",
    "    diag_minus1 = Float64[D for j in 2:n_points]\n",
    "    diag0 = Float64[-2D for j in 1:n_points]\n",
    "    diag1 = Float64[D for j in 1:n_points-1]\n",
    "    \n",
    "    A = spdiagm((diag_minus1, diag0, diag1), (-1, 0, 1))\n",
    "    A[1, end] = D\n",
    "    A[end, 1] = D\n",
    "    dis_T = (speye(size(A)...) - 0.5*Δt*A)\\((speye(size(A)...) + 0.5*Δt*A)*dis_T)\n",
    "    \n",
    "    return new_position, dis_T\n",
    "end"
   ]
  },
  {
   "cell_type": "code",
   "execution_count": null,
   "metadata": {
    "collapsed": false
   },
   "outputs": [],
   "source": [
    "n_steps = 2000\n",
    "n_points = 500\n",
    "Δt = 0.01\n",
    "kappa = 0.4\n",
    "D = 0.1\n",
    "x_axis = linspace(-5, 1, n_points)\n",
    "# T_old(x) = 200*exp(-x.^2) + 150\n",
    "# T_old(x) = 250.0 + 50*sin((pi/L)*x)\n",
    "dis_dV = Float64[dV(x) for x in x_axis]\n",
    "dis_ddV = Float64[ddV(x) for x in x_axis]\n",
    "Temperature = Array(Float64, n_steps, n_points)\n",
    "dis_T = Float64[250.0 + 50*sin((pi/L)*x) for x in x_axis]\n",
    "Temperature[1, :] = dis_T\n",
    "init_pos = 0.0\n",
    "position = Array(Float64, n_steps)\n",
    "position[1] = init_pos\n",
    "old_position = init_pos\n",
    "\n",
    "init_pos2 = -0.2\n",
    "position2 = Array(Float64, n_steps)\n",
    "position2[1] = init_pos2\n",
    "old_position2 = init_pos2\n",
    "@time begin\n",
    "    for i = 2:n_steps\n",
    "        new_position, dis_T = simulate_coupled_particle(old_position, x_axis, Δt, μ, \n",
    "                dis_dV, dis_ddV, dis_T, kappa, D)\n",
    "        position[i] = new_position\n",
    "        old_position = new_position\n",
    "\n",
    "        new_position2, dis_T = simulate_coupled_particle(old_position2, x_axis, Δt, μ, \n",
    "                dis_dV, dis_ddV, dis_T, kappa, D)\n",
    "        position2[i] = new_position2\n",
    "        old_position2 = new_position2\n",
    "\n",
    "        Temperature[i, :] = dis_T\n",
    "    end\n",
    "end"
   ]
  },
  {
   "cell_type": "code",
   "execution_count": null,
   "metadata": {
    "collapsed": false
   },
   "outputs": [],
   "source": [
    "# g = figure()\n",
    "# @manipulate for i in 1:n_steps withfig(g) do\n",
    "#         plt[:hist]([position[i] position2[i]])\n",
    "#         plot(x_axis, map(x -> 0.08*(V(x) - f*x_axis[1] + 1.0), x_axis), x_axis, 0.01*Temperature[i, :]')\n",
    "#     end\n",
    "# end\n",
    "\n",
    "i = n_steps\n",
    "plt[:hist]([position[i] position2[i]])\n",
    "plot(x_axis, map(x -> 0.08*(V(x) - f*x_axis[1] + 1.0), x_axis), x_axis, 0.01*Temperature[i, :]')"
   ]
  },
  {
   "cell_type": "code",
   "execution_count": null,
   "metadata": {
    "collapsed": false
   },
   "outputs": [],
   "source": [
    "# Run a single coupled particle multiple times\n",
    "k_B = 1.38e-3 # Boltzmann constant\n",
    "v0 = 0.9 # Amplitude of the oscillations in the potential\n",
    "f = 2.5 # Forcing for the potential\n",
    "D = 0.001 # Diffusion constant for the temperatre\n",
    "kappa = 0.3 # Heat capacity\n",
    "L = 1.0 # Length of one period\n",
    "T0 = 150.0 # Temperature at the ends (i.e. bath temperature)\n",
    "n_particles = 100\n",
    "total_time = 2\n",
    "n_points = 500\n",
    "dt = 0.01\n",
    "x_axis = linspace(-5, 1, n_points)\n",
    "\n",
    "n_steps = Int(1/dt)*total_time\n",
    "init_positions = rand(Normal(0, 1), n_particles)\n",
    "particle_positions = Array(Float64, n_particles, n_steps)\n",
    "particle_positions[:, 1] = init_positions\n",
    "old_position, new_position = init_positions[1], init_positions[1]\n",
    "\n",
    "V(x) = f*x + v0*sin((2.0*pi/L)*x)\n",
    "dV(x) = f + (2.0*pi/L)*v0*cos((2.0*pi/L)*x)\n",
    "ddV(x) = -(2.0*pi/L)^2*v0*sin((2.0*pi/L)*x)\n",
    "μ(x) = -(f + (2.0*pi/L)*v0*cos((2.0*pi/L)*x))\n",
    "\n",
    "dis_V = Float64[V(x) for x in x_axis]\n",
    "dis_dV = Float64[dV(x) for x in x_axis]\n",
    "dis_ddV = Float64[ddV(x) for x in x_axis]\n",
    "dis_T = Float64[T0 + 50*sin((pi/L)*x) for x in x_axis]\n",
    "dis_T_cum = zeros(size(dis_T)...)\n",
    "@time begin\n",
    "    for particle in 1:n_particles\n",
    "        dis_T = Float64[250.0 + 50*sin((pi/L)*x) for x in x_axis]\n",
    "        old_position = particle_positions[particle]\n",
    "        new_position = particle_positions[particle]\n",
    "        for i = 2:n_steps\n",
    "            new_position, dis_T = simulate_coupled_particle(old_position, x_axis, dt, μ, \n",
    "                    dis_dV, dis_ddV, dis_T, kappa, D)\n",
    "            old_position = new_position\n",
    "            particle_positions[particle, i] = new_position\n",
    "            \n",
    "            if i == n_steps\n",
    "                dis_T_cum += dis_T\n",
    "            end\n",
    "        end\n",
    "    end\n",
    "end\n",
    "dis_T_cum = dis_T_cum/n_steps;"
   ]
  },
  {
   "cell_type": "code",
   "execution_count": null,
   "metadata": {
    "collapsed": false
   },
   "outputs": [],
   "source": [
    "time_step = n_steps\n",
    "plt[:hist](particle_positions[:, time_step], 25)\n",
    "plot(x_axis, -f*x_axis[1] + dis_V)\n",
    "plot(x_axis, dis_T_cum)"
   ]
  },
  {
   "cell_type": "code",
   "execution_count": null,
   "metadata": {
    "collapsed": false
   },
   "outputs": [],
   "source": [
    "plot(particle_positions[1, :]')"
   ]
  },
  {
   "cell_type": "code",
   "execution_count": null,
   "metadata": {
    "collapsed": false
   },
   "outputs": [],
   "source": [
    "rand(Normal(1, 2), 100)"
   ]
  },
  {
   "cell_type": "code",
   "execution_count": null,
   "metadata": {
    "collapsed": true
   },
   "outputs": [],
   "source": []
  }
 ],
 "metadata": {
  "kernelspec": {
   "display_name": "Julia 0.4.5",
   "language": "julia",
   "name": "julia-0.4"
  },
  "language_info": {
   "file_extension": ".jl",
   "mimetype": "application/julia",
   "name": "julia",
   "version": "0.4.5"
  }
 },
 "nbformat": 4,
 "nbformat_minor": 0
}
